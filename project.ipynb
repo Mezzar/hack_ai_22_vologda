{
 "cells": [
  {
   "cell_type": "markdown",
   "metadata": {
    "tags": []
   },
   "source": [
    "# Инициализация и загрузка данных"
   ]
  },
  {
   "cell_type": "raw",
   "metadata": {},
   "source": [
    "!pip install torch, transformers, pymorphy2, nltk, tqdm, lightgbm, seaborn, sklearn"
   ]
  },
  {
   "cell_type": "code",
   "execution_count": 1,
   "metadata": {
    "id": "BwNGqMidQiRi"
   },
   "outputs": [],
   "source": [
    "import numpy as np \n",
    "import pandas as pd\n",
    "import seaborn as sns\n",
    "import matplotlib.pyplot as plt\n",
    "from collections import Counter\n",
    "from sklearn.preprocessing import LabelEncoder\n",
    "\n",
    "from tqdm.auto import tqdm, trange\n",
    "\n",
    "import nltk\n",
    "import pymorphy2\n",
    "import re\n",
    "\n",
    "from lightgbm import LGBMClassifier\n",
    "\n",
    "from sklearn.feature_extraction.text import CountVectorizer, TfidfVectorizer\n",
    "from sklearn.model_selection import train_test_split, cross_val_score\n",
    "from sklearn.metrics import recall_score, accuracy_score, make_scorer"
   ]
  },
  {
   "cell_type": "code",
   "execution_count": 2,
   "metadata": {},
   "outputs": [],
   "source": [
    "def seed_everything(seed):\n",
    "    import os, random\n",
    "    os.environ['PYTHONHASHSEED'] = str(seed)\n",
    "    random.seed(seed)\n",
    "    np.random.seed(seed)\n",
    "SEED = 42\n",
    "seed_everything(SEED)"
   ]
  },
  {
   "cell_type": "code",
   "execution_count": 3,
   "metadata": {
    "id": "3TZUcuZ33rM5"
   },
   "outputs": [],
   "source": [
    "df_train = pd.read_csv(\"data/train.csv\", index_col='RecordNo')\n",
    "df_test = pd.read_csv(\"data/test.csv\", index_col='RecordNo')"
   ]
  },
  {
   "cell_type": "markdown",
   "metadata": {},
   "source": [
    "### Объединение train и test в одну таблицу"
   ]
  },
  {
   "cell_type": "code",
   "execution_count": 4,
   "metadata": {},
   "outputs": [
    {
     "data": {
      "text/plain": [
       "((4839, 16), (2075, 11))"
      ]
     },
     "execution_count": 4,
     "metadata": {},
     "output_type": "execute_result"
    }
   ],
   "source": [
    "df_train.shape, df_test.shape"
   ]
  },
  {
   "cell_type": "code",
   "execution_count": 5,
   "metadata": {},
   "outputs": [],
   "source": [
    "df_train['train'] = 1\n",
    "df_test['train'] = 0\n",
    "\n",
    "df = pd.concat([df_train, df_test])\n",
    "del df_train, df_test"
   ]
  },
  {
   "cell_type": "code",
   "execution_count": 6,
   "metadata": {},
   "outputs": [
    {
     "data": {
      "text/plain": [
       "((6914, 17), (4839, 17), (2075, 17))"
      ]
     },
     "execution_count": 6,
     "metadata": {},
     "output_type": "execute_result"
    }
   ],
   "source": [
    "df.shape, df.query('train==1').shape, df.query('train==0').shape"
   ]
  },
  {
   "cell_type": "code",
   "execution_count": 7,
   "metadata": {},
   "outputs": [
    {
     "data": {
      "text/html": [
       "<div>\n",
       "<style scoped>\n",
       "    .dataframe tbody tr th:only-of-type {\n",
       "        vertical-align: middle;\n",
       "    }\n",
       "\n",
       "    .dataframe tbody tr th {\n",
       "        vertical-align: top;\n",
       "    }\n",
       "\n",
       "    .dataframe thead th {\n",
       "        text-align: right;\n",
       "    }\n",
       "</style>\n",
       "<table border=\"1\" class=\"dataframe\">\n",
       "  <thead>\n",
       "    <tr style=\"text-align: right;\">\n",
       "      <th></th>\n",
       "      <th>Название книги</th>\n",
       "      <th>Автор</th>\n",
       "      <th>Ссылка на литрес</th>\n",
       "      <th>Рейтинг</th>\n",
       "      <th>Количество оценок</th>\n",
       "      <th>Количество отзывов</th>\n",
       "      <th>Имя читателя</th>\n",
       "      <th>Оценка книги читателем (из 5 баллов)</th>\n",
       "      <th>Отзыв</th>\n",
       "      <th>Лайки на отзыв</th>\n",
       "      <th>Дислайки на отзыв</th>\n",
       "      <th>Релевантность</th>\n",
       "      <th>Таксономия релевантные</th>\n",
       "      <th>Таксономия не релевантные</th>\n",
       "      <th>Длина отзыва</th>\n",
       "      <th>Ценности</th>\n",
       "      <th>train</th>\n",
       "    </tr>\n",
       "    <tr>\n",
       "      <th>RecordNo</th>\n",
       "      <th></th>\n",
       "      <th></th>\n",
       "      <th></th>\n",
       "      <th></th>\n",
       "      <th></th>\n",
       "      <th></th>\n",
       "      <th></th>\n",
       "      <th></th>\n",
       "      <th></th>\n",
       "      <th></th>\n",
       "      <th></th>\n",
       "      <th></th>\n",
       "      <th></th>\n",
       "      <th></th>\n",
       "      <th></th>\n",
       "      <th></th>\n",
       "      <th></th>\n",
       "    </tr>\n",
       "  </thead>\n",
       "  <tbody>\n",
       "    <tr>\n",
       "      <th>6145</th>\n",
       "      <td>Зулейха открывает глаза</td>\n",
       "      <td>Гузель Яхина</td>\n",
       "      <td>https://www.litres.ru/guzel-yahina/zuleyha-otk...</td>\n",
       "      <td>4.7</td>\n",
       "      <td>3922</td>\n",
       "      <td>408</td>\n",
       "      <td>Айгуль Ляпина</td>\n",
       "      <td>5.0</td>\n",
       "      <td>Рекомендую книгу в прочтению/прослушиванию. Ес...</td>\n",
       "      <td>0</td>\n",
       "      <td>3</td>\n",
       "      <td>0.0</td>\n",
       "      <td>0.0</td>\n",
       "      <td>0.0</td>\n",
       "      <td>0.0</td>\n",
       "      <td>0.0</td>\n",
       "      <td>1</td>\n",
       "    </tr>\n",
       "    <tr>\n",
       "      <th>7006</th>\n",
       "      <td>Зулейха открывает глаза</td>\n",
       "      <td>Гузель Яхина</td>\n",
       "      <td>https://www.litres.ru/guzel-yahina/zuleyha-otk...</td>\n",
       "      <td>4.6</td>\n",
       "      <td>24719</td>\n",
       "      <td>2103</td>\n",
       "      <td>Olga T</td>\n",
       "      <td>5.0</td>\n",
       "      <td>Удивительно, что сейчас возникает ТАКАЯ литера...</td>\n",
       "      <td>0</td>\n",
       "      <td>1</td>\n",
       "      <td>0.0</td>\n",
       "      <td>0.0</td>\n",
       "      <td>0.0</td>\n",
       "      <td>0.0</td>\n",
       "      <td>1.0</td>\n",
       "      <td>1</td>\n",
       "    </tr>\n",
       "    <tr>\n",
       "      <th>1124</th>\n",
       "      <td>Дети мои</td>\n",
       "      <td>Гузель Яхина</td>\n",
       "      <td>https://www.litres.ru/guzel-yahina/deti-moi/</td>\n",
       "      <td>4.4</td>\n",
       "      <td>8032</td>\n",
       "      <td>702</td>\n",
       "      <td>Кирилл Чириков</td>\n",
       "      <td>5.0</td>\n",
       "      <td>Душевно, жизненно, чувственно, проникновенно!!...</td>\n",
       "      <td>0</td>\n",
       "      <td>0</td>\n",
       "      <td>0.0</td>\n",
       "      <td>1.0</td>\n",
       "      <td>0.0</td>\n",
       "      <td>0.0</td>\n",
       "      <td>1.0</td>\n",
       "      <td>1</td>\n",
       "    </tr>\n",
       "  </tbody>\n",
       "</table>\n",
       "</div>"
      ],
      "text/plain": [
       "                   Название книги         Автор  \\\n",
       "RecordNo                                          \n",
       "6145      Зулейха открывает глаза  Гузель Яхина   \n",
       "7006      Зулейха открывает глаза  Гузель Яхина   \n",
       "1124                     Дети мои  Гузель Яхина   \n",
       "\n",
       "                                           Ссылка на литрес  Рейтинг  \\\n",
       "RecordNo                                                               \n",
       "6145      https://www.litres.ru/guzel-yahina/zuleyha-otk...      4.7   \n",
       "7006      https://www.litres.ru/guzel-yahina/zuleyha-otk...      4.6   \n",
       "1124           https://www.litres.ru/guzel-yahina/deti-moi/      4.4   \n",
       "\n",
       "          Количество оценок  Количество отзывов    Имя читателя  \\\n",
       "RecordNo                                                          \n",
       "6145                   3922                 408   Айгуль Ляпина   \n",
       "7006                  24719                2103          Olga T   \n",
       "1124                   8032                 702  Кирилл Чириков   \n",
       "\n",
       "          Оценка книги читателем (из 5 баллов)  \\\n",
       "RecordNo                                         \n",
       "6145                                       5.0   \n",
       "7006                                       5.0   \n",
       "1124                                       5.0   \n",
       "\n",
       "                                                      Отзыв  Лайки на отзыв  \\\n",
       "RecordNo                                                                      \n",
       "6145      Рекомендую книгу в прочтению/прослушиванию. Ес...               0   \n",
       "7006      Удивительно, что сейчас возникает ТАКАЯ литера...               0   \n",
       "1124      Душевно, жизненно, чувственно, проникновенно!!...               0   \n",
       "\n",
       "          Дислайки на отзыв  Релевантность  Таксономия релевантные  \\\n",
       "RecordNo                                                             \n",
       "6145                      3            0.0                     0.0   \n",
       "7006                      1            0.0                     0.0   \n",
       "1124                      0            0.0                     1.0   \n",
       "\n",
       "          Таксономия не релевантные  Длина отзыва  Ценности  train  \n",
       "RecordNo                                                            \n",
       "6145                            0.0           0.0       0.0      1  \n",
       "7006                            0.0           0.0       1.0      1  \n",
       "1124                            0.0           0.0       1.0      1  "
      ]
     },
     "execution_count": 7,
     "metadata": {},
     "output_type": "execute_result"
    }
   ],
   "source": [
    "df.head(3)"
   ]
  },
  {
   "cell_type": "markdown",
   "metadata": {},
   "source": [
    "# Обработка признаков"
   ]
  },
  {
   "cell_type": "code",
   "execution_count": 8,
   "metadata": {},
   "outputs": [],
   "source": [
    "TARGET_COLS = ['Релевантность', 'Таксономия релевантные', 'Таксономия не релевантные', 'Длина отзыва', 'Ценности']"
   ]
  },
  {
   "cell_type": "code",
   "execution_count": 9,
   "metadata": {},
   "outputs": [],
   "source": [
    "df = df.rename(columns={\n",
    "    'Отзыв': 'review',\n",
    "})"
   ]
  },
  {
   "cell_type": "markdown",
   "metadata": {},
   "source": [
    "**likes_balance**"
   ]
  },
  {
   "cell_type": "code",
   "execution_count": 10,
   "metadata": {},
   "outputs": [],
   "source": [
    "df['likes_balance'] = df['Лайки на отзыв'] - df['Дислайки на отзыв']"
   ]
  },
  {
   "cell_type": "markdown",
   "metadata": {},
   "source": [
    "**Оценка читателем** - fill Nans"
   ]
  },
  {
   "cell_type": "code",
   "execution_count": 11,
   "metadata": {
    "id": "xyutMnZ2msuR"
   },
   "outputs": [],
   "source": [
    "df['Оценка книги читателем (из 5 баллов)'].fillna(4, inplace=True)"
   ]
  },
  {
   "cell_type": "markdown",
   "metadata": {},
   "source": [
    "**Автор, Имя читателя, Название книги** - оставлю только те, у кого больше 10 отзывов. И преобразую в числовой код."
   ]
  },
  {
   "cell_type": "code",
   "execution_count": 12,
   "metadata": {},
   "outputs": [
    {
     "name": "stdout",
     "output_type": "stream",
     "text": [
      "Осталось уникальных значений:\n",
      "Автор - 32\n",
      "Имя читателя - 13\n",
      "Название книги - 46\n"
     ]
    }
   ],
   "source": [
    "print('Осталось уникальных значений:')\n",
    "for col in ['Автор', 'Имя читателя', 'Название книги']:\n",
    "    keep_values = set([val for val, count in Counter(df[col]).items() if count > 10])\n",
    "    df[col] = df[col].apply(lambda x: x if x in keep_values else 'other').astype('category').cat.codes\n",
    "    print(f'{col} - {df[col].nunique()}')"
   ]
  },
  {
   "cell_type": "markdown",
   "metadata": {},
   "source": [
    "### Обработка Отзыва и подсчет длины, числа слов, числа предложений\n",
    "\n",
    "Число предложений - важный признак, поэтому надо исправить неправильно обрабатываемые случаи, когда пробел стоит до, а не после точки."
   ]
  },
  {
   "cell_type": "code",
   "execution_count": 13,
   "metadata": {},
   "outputs": [],
   "source": [
    "def clean_review(s):\n",
    "    s = s.replace('…', '...')\n",
    "    s = re.sub(' *([.?!,])+ *', '\\\\1 ', s)\n",
    "    return s\n",
    "    \n",
    "df['review'] = df['review'].apply(clean_review)"
   ]
  },
  {
   "cell_type": "code",
   "execution_count": 14,
   "metadata": {},
   "outputs": [],
   "source": [
    "df['review_len'] = df.review.map(len)\n",
    "\n",
    "df['review_sentences'] = df.review.apply(lambda s: list(nltk.sent_tokenize(s)))\n",
    "df['review_n_sents'] = df.review_sentences.apply(len)"
   ]
  },
  {
   "cell_type": "markdown",
   "metadata": {},
   "source": [
    "Выделяю токены слов и нормализую их, приведя в стандартную форму (например \"сделаю\" -> \"сделать\" и т.п.)."
   ]
  },
  {
   "cell_type": "code",
   "execution_count": 15,
   "metadata": {},
   "outputs": [
    {
     "name": "stdout",
     "output_type": "stream",
     "text": [
      "Wall time: 1min 10s\n"
     ]
    }
   ],
   "source": [
    "%%time\n",
    "df['review_tokens'] = df.review.apply(lambda s: [w.lower() for w in nltk.tokenize.word_tokenize(s) if w.isalpha()])\n",
    "df['review_n_words'] = df.review_tokens.apply(len)\n",
    "\n",
    "morph = pymorphy2.MorphAnalyzer()\n",
    "df['review_norm_tokens'] = df.review_tokens.apply(lambda ws: [morph.parse(w)[0].normal_form for w in ws])\n",
    "df['review_n_uniq_words'] = df.review_norm_tokens.apply(lambda ws: len(set([w for w in ws if len(w)>2])))"
   ]
  },
  {
   "cell_type": "markdown",
   "metadata": {},
   "source": [
    "### Счетчик слов (CountVectorizer)\n",
    "\n",
    "Обрабатываю нормализованные токены.\n",
    "\n",
    "Полученную матрицу добавляю в pandas таблицу новыми колонками с именами `cvect_N`"
   ]
  },
  {
   "cell_type": "code",
   "execution_count": 16,
   "metadata": {},
   "outputs": [],
   "source": [
    "df['review_norm'] = df['review_norm_tokens'].apply(lambda x: ' '.join(x))\n",
    "\n",
    "vect = CountVectorizer(min_df=10)\n",
    "matrix = vect.fit_transform(df['review_norm']).todense()\n",
    "vocab_id2word = list(vect.vocabulary_.keys())\n",
    "col_names = [f'cvect_{i}' for i in range(matrix.shape[1])]\n",
    "df = pd.concat([df, pd.DataFrame(matrix, index=df.index, columns=col_names)], axis=1)"
   ]
  },
  {
   "cell_type": "markdown",
   "metadata": {},
   "source": [
    "### Добавление эмбеддинга отзывов\n",
    "\n",
    "Использую предобученную модель BERT: `rubert-tiny2` с хаба Hugging Face (https://huggingface.co/cointegrated/rubert-tiny2)."
   ]
  },
  {
   "cell_type": "code",
   "execution_count": 17,
   "metadata": {},
   "outputs": [
    {
     "name": "stderr",
     "output_type": "stream",
     "text": [
      "Some weights of the model checkpoint at cointegrated/rubert-tiny2 were not used when initializing BertModel: ['cls.predictions.transform.dense.bias', 'cls.predictions.transform.LayerNorm.weight', 'cls.predictions.decoder.weight', 'cls.predictions.decoder.bias', 'cls.predictions.transform.LayerNorm.bias', 'cls.predictions.bias', 'cls.seq_relationship.weight', 'cls.predictions.transform.dense.weight', 'cls.seq_relationship.bias']\n",
      "- This IS expected if you are initializing BertModel from the checkpoint of a model trained on another task or with another architecture (e.g. initializing a BertForSequenceClassification model from a BertForPreTraining model).\n",
      "- This IS NOT expected if you are initializing BertModel from the checkpoint of a model that you expect to be exactly identical (initializing a BertForSequenceClassification model from a BertForSequenceClassification model).\n"
     ]
    },
    {
     "name": "stdout",
     "output_type": "stream",
     "text": [
      "(312,)\n"
     ]
    }
   ],
   "source": [
    "import torch\n",
    "from transformers import AutoTokenizer, AutoModel\n",
    "\n",
    "tokenizer = AutoTokenizer.from_pretrained(\"cointegrated/rubert-tiny2\")\n",
    "model = AutoModel.from_pretrained(\"cointegrated/rubert-tiny2\")\n",
    "\n",
    "def embed_bert_cls(text, model, tokenizer):\n",
    "    t = tokenizer(text, padding=True, truncation=True, return_tensors='pt')\n",
    "    with torch.no_grad():\n",
    "        model_output = model(**{k: v.to(model.device) for k, v in t.items()})\n",
    "    embeddings = model_output.last_hidden_state[:, 0, :]\n",
    "    embeddings = torch.nn.functional.normalize(embeddings)\n",
    "    return embeddings[0].cpu().numpy()\n",
    "\n",
    "print(embed_bert_cls('тест модели', model, tokenizer).shape)"
   ]
  },
  {
   "cell_type": "markdown",
   "metadata": {},
   "source": [
    "Получение эмбеддинга каждого отзыва"
   ]
  },
  {
   "cell_type": "code",
   "execution_count": 18,
   "metadata": {},
   "outputs": [
    {
     "name": "stdout",
     "output_type": "stream",
     "text": [
      "Wall time: 1min 11s\n"
     ]
    }
   ],
   "source": [
    "%%time\n",
    "df['review_embed_rubert_tiny2'] = df.review.apply(lambda s: embed_bert_cls(s, model, tokenizer))"
   ]
  },
  {
   "cell_type": "markdown",
   "metadata": {},
   "source": [
    "Добавление эмбеддингов в таблицу как новые колонки с именами `emb_N`"
   ]
  },
  {
   "cell_type": "code",
   "execution_count": 19,
   "metadata": {},
   "outputs": [],
   "source": [
    "embed_column = 'review_embed_rubert_tiny2'  #'review_embed_rubert_tiny2' или 'review_embed_sber'\n",
    "\n",
    "embeddings = np.array(df[embed_column].values.tolist())\n",
    "col_names = [f'emb_{i}' for i in range(embeddings.shape[1])]\n",
    "df = pd.concat([df, pd.DataFrame(embeddings, index=df.index, columns=col_names)], axis=1)"
   ]
  },
  {
   "cell_type": "markdown",
   "metadata": {},
   "source": [
    "## Выборки\n",
    "\n",
    "X - вся обучающая выборка, X_train и X_val - это X разбитый на две части. Аналогично с Y, y_train, y_val.\n",
    "\n",
    "X_test - тестовая выборка для финального предсказания."
   ]
  },
  {
   "cell_type": "code",
   "execution_count": 20,
   "metadata": {},
   "outputs": [],
   "source": [
    "object_cols = df.dtypes[df.dtypes == \"object\"].index.values.tolist()\n",
    "\n",
    "X = df.query('train==1').drop(object_cols + ['train'] + TARGET_COLS, axis=1)\n",
    "X_test = df.query('train==0').drop(object_cols + ['train'] + TARGET_COLS, axis=1)\n",
    "Y = df.query('train==1')[TARGET_COLS]\n",
    "y_test = df.query('train==0')[TARGET_COLS]\n",
    "\n",
    "# уберем пробелы из названий колонок, чтобы RF не выдавал предупреждений\n",
    "X.columns = [c.replace(' ', '_') for c in X.columns]\n",
    "X_test.columns = [c.replace(' ', '_') for c in X_test.columns]\n",
    "\n",
    "X_train, X_val, y_train, y_val = train_test_split(X, Y)"
   ]
  },
  {
   "cell_type": "markdown",
   "metadata": {},
   "source": [
    "# Утилитные функции"
   ]
  },
  {
   "cell_type": "code",
   "execution_count": 21,
   "metadata": {},
   "outputs": [],
   "source": [
    "def my_metric(true, pred):\n",
    "    return recall_score(true, pred, average='macro')\n",
    "\n",
    "my_scorer = make_scorer(recall_score, average='macro')"
   ]
  },
  {
   "cell_type": "markdown",
   "metadata": {},
   "source": [
    "## Классификатор\n",
    "\n",
    "Признаки предсказываю независимо, разными моделями."
   ]
  },
  {
   "cell_type": "code",
   "execution_count": 22,
   "metadata": {},
   "outputs": [
    {
     "data": {
      "application/vnd.jupyter.widget-view+json": {
       "model_id": "3cc93fd7305547ccbaa8dee426b7de07",
       "version_major": 2,
       "version_minor": 0
      },
      "text/plain": [
       "  0%|          | 0/5 [00:00<?, ?it/s]"
      ]
     },
     "metadata": {},
     "output_type": "display_data"
    },
    {
     "name": "stdout",
     "output_type": "stream",
     "text": [
      "Релевантность - 0.6537\n",
      "Таксономия релевантные - 0.9850\n",
      "Таксономия не релевантные - 0.9286\n",
      "Длина отзыва - 0.9228\n",
      "Ценности - 0.9507\n",
      "----\n",
      "Общая метрика: 0.8882\n"
     ]
    }
   ],
   "source": [
    "scores = []\n",
    "for col in tqdm(TARGET_COLS):\n",
    "    model = LGBMClassifier(random_state=SEED)\n",
    "    pred = model.fit(X_train, y_train[col]).predict(X_val)\n",
    "    score = my_metric(y_val[col], pred)\n",
    "    scores.append(score)\n",
    "    print(f'{col} - {score:.4f}')\n",
    "    \n",
    "print(f'----\\nОбщая метрика: {np.mean(scores):.4f}')"
   ]
  },
  {
   "cell_type": "markdown",
   "metadata": {},
   "source": [
    "### Доработка классификатора\n",
    "\n",
    "С помощью `Optuna` подобрал гиперпараметры моделей (они отличаются). При подборе для скорости ограничивал датасет признаками с ненулевым feature_importance и нивелировал случайный фактор усреднением по кросс-валидации и повторам с помощью RepeatedKFold.\n",
    "\n",
    "Как оказалось `Длина отзыва` зависит исключительно от числа предложений в отзыве. Поэтому чтобы не было переобучения на других признаках, оставил для этого таргета только признак `review_n_sents`\n",
    "\n",
    "Для остальных моделей фильтрации по признакам не делал."
   ]
  },
  {
   "cell_type": "code",
   "execution_count": 25,
   "metadata": {},
   "outputs": [],
   "source": [
    "def predict_customized(X, Y, X_test):\n",
    "    pred = []\n",
    "    for col in tqdm(TARGET_COLS):\n",
    "        if col == 'Длина отзыва':\n",
    "            model = LGBMClassifier(random_state=SEED)\n",
    "            pred_col = model.fit(X['review_n_sents'].values.reshape(-1,1), Y[col]).predict(X_test['review_n_sents'].values.reshape(-1,1))\n",
    "        elif col == 'Релевантность':\n",
    "            params = {'objective': 'binary', 'num_leaves': 177, 'max_depth': 2, 'n_estimators': 260,\n",
    "                      'learning_rate': 0.05121174906532426, 'min_child_samples': 105, 'unbalanced_sets': True,\n",
    "                      'reg_alpha': 3.3519079344356215e-08, 'reg_lambda': 4.559393842524269e-05,\n",
    "                      'colsample_bytree': 0.8034114269054005, 'subsample': 0.4015550377744898, 'subsample_freq': 1,\n",
    "                     }\n",
    "            model = LGBMClassifier(random_state=SEED, **params)\n",
    "            pred_col = model.fit(X, Y[col]).predict(X_test)\n",
    "        elif col == 'Ценности':\n",
    "            params = {'objective': 'binary', 'num_leaves': 61, 'max_depth': 5, 'n_estimators': 170, 'learning_rate': 0.09980610611553524, 'min_child_samples': 15, 'unbalanced_sets': False,\n",
    "                     'reg_alpha': 0.010166786814215246, 'reg_lambda': 0.01470197993560216, 'colsample_bytree': 0.535556342301064, 'subsample': 0.9996493889793364, 'subsample_freq': 5\n",
    "                     }\n",
    "            model = LGBMClassifier(random_state=SEED, **params)\n",
    "            pred_col = model.fit(X, Y[col]).predict(X_test)\n",
    "        elif col == 'Таксономия не релевантные':\n",
    "            params = {'objective': 'regression', 'num_leaves': 142, 'max_depth': 5, 'n_estimators': 300,\n",
    "                      'learning_rate': 0.04688054616706237, 'min_child_samples': 5, 'unbalanced_sets': False}\n",
    "            model = LGBMClassifier(random_state=SEED, **params)\n",
    "            pred_col = model.fit(X, Y[col]).predict(X_test)\n",
    "        elif col == 'Таксономия релевантные':\n",
    "            params = {'objective': 'binary', 'num_leaves': 7, 'max_depth': 9, 'n_estimators': 270, 'learning_rate': 0.06264444878642536, 'min_child_samples': 15, 'unbalanced_sets': True,\n",
    "                      'reg_alpha': 0.03294335187156749, 'reg_lambda': 0.0005076535960444901, 'colsample_bytree': 0.7010372380556693, 'subsample': 0.9985674583502681, 'subsample_freq': 2\n",
    "                     }\n",
    "            model = LGBMClassifier(random_state=SEED, **params)\n",
    "            pred_col = model.fit(X, Y[col]).predict(X_test)\n",
    "        else:\n",
    "            assert False\n",
    "        pred.append(pred_col)\n",
    "    pred = np.array(pred).T\n",
    "    return pd.DataFrame(pred, index=X_test.index, columns=TARGET_COLS).astype(int)"
   ]
  },
  {
   "cell_type": "code",
   "execution_count": 26,
   "metadata": {},
   "outputs": [
    {
     "data": {
      "application/vnd.jupyter.widget-view+json": {
       "model_id": "f28a12c2e6a24ad7947e5792e5987717",
       "version_major": 2,
       "version_minor": 0
      },
      "text/plain": [
       "  0%|          | 0/5 [00:00<?, ?it/s]"
      ]
     },
     "metadata": {},
     "output_type": "display_data"
    }
   ],
   "source": [
    "df_pred = predict_customized(X_train, y_train, X_val)"
   ]
  },
  {
   "cell_type": "code",
   "execution_count": 27,
   "metadata": {},
   "outputs": [
    {
     "name": "stdout",
     "output_type": "stream",
     "text": [
      "Релевантность - 0.7444\n",
      "Таксономия релевантные - 0.9913\n",
      "Таксономия не релевантные - 0.9703\n",
      "Длина отзыва - 0.9239\n",
      "Ценности - 0.9569\n",
      "----\n",
      "Общая метрика: 0.9028\n"
     ]
    }
   ],
   "source": [
    "for col in TARGET_COLS:\n",
    "    pred = df_pred[col]\n",
    "    score = my_metric(y_val[col], pred)\n",
    "    scores.append(score)\n",
    "    print(f'{col} - {score:.4f}')\n",
    "print(f'----\\nОбщая метрика: {np.mean(scores):.4f}')"
   ]
  },
  {
   "cell_type": "markdown",
   "metadata": {},
   "source": [
    "## Обучение на всем датасете, предсказание для тестовой выборки и экспорт"
   ]
  },
  {
   "cell_type": "code",
   "execution_count": 28,
   "metadata": {},
   "outputs": [
    {
     "data": {
      "application/vnd.jupyter.widget-view+json": {
       "model_id": "f7db532dcda8483fa930f31ed85e51fd",
       "version_major": 2,
       "version_minor": 0
      },
      "text/plain": [
       "  0%|          | 0/5 [00:00<?, ?it/s]"
      ]
     },
     "metadata": {},
     "output_type": "display_data"
    }
   ],
   "source": [
    "df_pred = predict_customized(X, Y, X_test)"
   ]
  },
  {
   "cell_type": "code",
   "execution_count": 29,
   "metadata": {},
   "outputs": [],
   "source": [
    "filename = 'submission.csv'"
   ]
  },
  {
   "cell_type": "code",
   "execution_count": 30,
   "metadata": {},
   "outputs": [
    {
     "data": {
      "text/html": [
       "<div>\n",
       "<style scoped>\n",
       "    .dataframe tbody tr th:only-of-type {\n",
       "        vertical-align: middle;\n",
       "    }\n",
       "\n",
       "    .dataframe tbody tr th {\n",
       "        vertical-align: top;\n",
       "    }\n",
       "\n",
       "    .dataframe thead th {\n",
       "        text-align: right;\n",
       "    }\n",
       "</style>\n",
       "<table border=\"1\" class=\"dataframe\">\n",
       "  <thead>\n",
       "    <tr style=\"text-align: right;\">\n",
       "      <th></th>\n",
       "      <th>Релевантность</th>\n",
       "      <th>Таксономия релевантные</th>\n",
       "      <th>Таксономия не релевантные</th>\n",
       "      <th>Длина отзыва</th>\n",
       "      <th>Ценности</th>\n",
       "    </tr>\n",
       "    <tr>\n",
       "      <th>RecordNo</th>\n",
       "      <th></th>\n",
       "      <th></th>\n",
       "      <th></th>\n",
       "      <th></th>\n",
       "      <th></th>\n",
       "    </tr>\n",
       "  </thead>\n",
       "  <tbody>\n",
       "    <tr>\n",
       "      <th>3366</th>\n",
       "      <td>1</td>\n",
       "      <td>0</td>\n",
       "      <td>0</td>\n",
       "      <td>1</td>\n",
       "      <td>1</td>\n",
       "    </tr>\n",
       "    <tr>\n",
       "      <th>3952</th>\n",
       "      <td>0</td>\n",
       "      <td>1</td>\n",
       "      <td>0</td>\n",
       "      <td>1</td>\n",
       "      <td>0</td>\n",
       "    </tr>\n",
       "    <tr>\n",
       "      <th>6852</th>\n",
       "      <td>1</td>\n",
       "      <td>0</td>\n",
       "      <td>0</td>\n",
       "      <td>0</td>\n",
       "      <td>1</td>\n",
       "    </tr>\n",
       "    <tr>\n",
       "      <th>4586</th>\n",
       "      <td>0</td>\n",
       "      <td>0</td>\n",
       "      <td>0</td>\n",
       "      <td>1</td>\n",
       "      <td>1</td>\n",
       "    </tr>\n",
       "    <tr>\n",
       "      <th>4677</th>\n",
       "      <td>1</td>\n",
       "      <td>1</td>\n",
       "      <td>0</td>\n",
       "      <td>0</td>\n",
       "      <td>0</td>\n",
       "    </tr>\n",
       "    <tr>\n",
       "      <th>...</th>\n",
       "      <td>...</td>\n",
       "      <td>...</td>\n",
       "      <td>...</td>\n",
       "      <td>...</td>\n",
       "      <td>...</td>\n",
       "    </tr>\n",
       "    <tr>\n",
       "      <th>4661</th>\n",
       "      <td>0</td>\n",
       "      <td>1</td>\n",
       "      <td>1</td>\n",
       "      <td>0</td>\n",
       "      <td>1</td>\n",
       "    </tr>\n",
       "    <tr>\n",
       "      <th>1547</th>\n",
       "      <td>0</td>\n",
       "      <td>0</td>\n",
       "      <td>1</td>\n",
       "      <td>0</td>\n",
       "      <td>0</td>\n",
       "    </tr>\n",
       "    <tr>\n",
       "      <th>6071</th>\n",
       "      <td>1</td>\n",
       "      <td>1</td>\n",
       "      <td>0</td>\n",
       "      <td>1</td>\n",
       "      <td>1</td>\n",
       "    </tr>\n",
       "    <tr>\n",
       "      <th>3805</th>\n",
       "      <td>1</td>\n",
       "      <td>1</td>\n",
       "      <td>0</td>\n",
       "      <td>0</td>\n",
       "      <td>1</td>\n",
       "    </tr>\n",
       "    <tr>\n",
       "      <th>471</th>\n",
       "      <td>0</td>\n",
       "      <td>0</td>\n",
       "      <td>0</td>\n",
       "      <td>1</td>\n",
       "      <td>1</td>\n",
       "    </tr>\n",
       "  </tbody>\n",
       "</table>\n",
       "<p>2075 rows × 5 columns</p>\n",
       "</div>"
      ],
      "text/plain": [
       "          Релевантность  Таксономия релевантные  Таксономия не релевантные  \\\n",
       "RecordNo                                                                     \n",
       "3366                  1                       0                          0   \n",
       "3952                  0                       1                          0   \n",
       "6852                  1                       0                          0   \n",
       "4586                  0                       0                          0   \n",
       "4677                  1                       1                          0   \n",
       "...                 ...                     ...                        ...   \n",
       "4661                  0                       1                          1   \n",
       "1547                  0                       0                          1   \n",
       "6071                  1                       1                          0   \n",
       "3805                  1                       1                          0   \n",
       "471                   0                       0                          0   \n",
       "\n",
       "          Длина отзыва  Ценности  \n",
       "RecordNo                          \n",
       "3366                 1         1  \n",
       "3952                 1         0  \n",
       "6852                 0         1  \n",
       "4586                 1         1  \n",
       "4677                 0         0  \n",
       "...                ...       ...  \n",
       "4661                 0         1  \n",
       "1547                 0         0  \n",
       "6071                 1         1  \n",
       "3805                 0         1  \n",
       "471                  1         1  \n",
       "\n",
       "[2075 rows x 5 columns]"
      ]
     },
     "execution_count": 30,
     "metadata": {},
     "output_type": "execute_result"
    }
   ],
   "source": [
    "df_pred.to_csv(filename)\n",
    "df_pred"
   ]
  },
  {
   "cell_type": "code",
   "execution_count": null,
   "metadata": {},
   "outputs": [],
   "source": []
  }
 ],
 "metadata": {
  "colab": {
   "name": "Культурный_baseline.ipynb",
   "provenance": []
  },
  "kernelspec": {
   "display_name": "Python 3 (ipykernel)",
   "language": "python",
   "name": "python3"
  },
  "language_info": {
   "codemirror_mode": {
    "name": "ipython",
    "version": 3
   },
   "file_extension": ".py",
   "mimetype": "text/x-python",
   "name": "python",
   "nbconvert_exporter": "python",
   "pygments_lexer": "ipython3",
   "version": "3.8.10"
  }
 },
 "nbformat": 4,
 "nbformat_minor": 4
}
